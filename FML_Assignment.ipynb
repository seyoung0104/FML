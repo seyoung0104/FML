{
  "nbformat": 4,
  "nbformat_minor": 0,
  "metadata": {
    "colab": {
      "name": "FML_Assignment.ipynb",
      "provenance": [],
      "collapsed_sections": []
    },
    "kernelspec": {
      "name": "python3",
      "display_name": "Python 3"
    },
    "language_info": {
      "name": "python"
    }
  },
  "cells": [
    {
      "cell_type": "code",
      "execution_count": null,
      "metadata": {
        "id": "gZyDHezjhrKk"
      },
      "outputs": [],
      "source": [
        "import pandas as pd\n",
        "import numpy as np"
      ]
    },
    {
      "cell_type": "code",
      "source": [
        "train = pd.read_csv('adult-train.csv')\n",
        "test = pd.read_csv('adult-test.csv')"
      ],
      "metadata": {
        "id": "-A1ZPdICiL8X"
      },
      "execution_count": null,
      "outputs": []
    },
    {
      "cell_type": "code",
      "source": [
        "#Make sure the data is loaded well\n",
        "train.head()"
      ],
      "metadata": {
        "colab": {
          "base_uri": "https://localhost:8080/",
          "height": 372
        },
        "id": "ouVk_Qx5xTSW",
        "outputId": "ebc91da5-8dd9-4b38-c655-0da3859f9bfd"
      },
      "execution_count": null,
      "outputs": [
        {
          "output_type": "execute_result",
          "data": {
            "text/plain": [
              "   age          workclass   education   education-num       marital-status  \\\n",
              "0   39          State-gov   Bachelors              13        Never-married   \n",
              "1   50   Self-emp-not-inc   Bachelors              13   Married-civ-spouse   \n",
              "2   38            Private     HS-grad               9             Divorced   \n",
              "3   53            Private        11th               7   Married-civ-spouse   \n",
              "4   28            Private   Bachelors              13   Married-civ-spouse   \n",
              "\n",
              "           occupation    relationship    race      sex   capital-gain  \\\n",
              "0        Adm-clerical   Not-in-family   White     Male           2174   \n",
              "1     Exec-managerial         Husband   White     Male              0   \n",
              "2   Handlers-cleaners   Not-in-family   White     Male              0   \n",
              "3   Handlers-cleaners         Husband   Black     Male              0   \n",
              "4      Prof-specialty            Wife   Black   Female              0   \n",
              "\n",
              "    capital-loss   hours-per-week  native-country  <=50K/>50K.  \n",
              "0              0               40   United-States        <=50K  \n",
              "1              0               13   United-States        <=50K  \n",
              "2              0               40   United-States        <=50K  \n",
              "3              0               40   United-States        <=50K  \n",
              "4              0               40            Cuba        <=50K  "
            ],
            "text/html": [
              "\n",
              "  <div id=\"df-a81aebbe-d710-4f53-aec7-7aa3d31cbd4c\">\n",
              "    <div class=\"colab-df-container\">\n",
              "      <div>\n",
              "<style scoped>\n",
              "    .dataframe tbody tr th:only-of-type {\n",
              "        vertical-align: middle;\n",
              "    }\n",
              "\n",
              "    .dataframe tbody tr th {\n",
              "        vertical-align: top;\n",
              "    }\n",
              "\n",
              "    .dataframe thead th {\n",
              "        text-align: right;\n",
              "    }\n",
              "</style>\n",
              "<table border=\"1\" class=\"dataframe\">\n",
              "  <thead>\n",
              "    <tr style=\"text-align: right;\">\n",
              "      <th></th>\n",
              "      <th>age</th>\n",
              "      <th>workclass</th>\n",
              "      <th>education</th>\n",
              "      <th>education-num</th>\n",
              "      <th>marital-status</th>\n",
              "      <th>occupation</th>\n",
              "      <th>relationship</th>\n",
              "      <th>race</th>\n",
              "      <th>sex</th>\n",
              "      <th>capital-gain</th>\n",
              "      <th>capital-loss</th>\n",
              "      <th>hours-per-week</th>\n",
              "      <th>native-country</th>\n",
              "      <th>&lt;=50K/&gt;50K.</th>\n",
              "    </tr>\n",
              "  </thead>\n",
              "  <tbody>\n",
              "    <tr>\n",
              "      <th>0</th>\n",
              "      <td>39</td>\n",
              "      <td>State-gov</td>\n",
              "      <td>Bachelors</td>\n",
              "      <td>13</td>\n",
              "      <td>Never-married</td>\n",
              "      <td>Adm-clerical</td>\n",
              "      <td>Not-in-family</td>\n",
              "      <td>White</td>\n",
              "      <td>Male</td>\n",
              "      <td>2174</td>\n",
              "      <td>0</td>\n",
              "      <td>40</td>\n",
              "      <td>United-States</td>\n",
              "      <td>&lt;=50K</td>\n",
              "    </tr>\n",
              "    <tr>\n",
              "      <th>1</th>\n",
              "      <td>50</td>\n",
              "      <td>Self-emp-not-inc</td>\n",
              "      <td>Bachelors</td>\n",
              "      <td>13</td>\n",
              "      <td>Married-civ-spouse</td>\n",
              "      <td>Exec-managerial</td>\n",
              "      <td>Husband</td>\n",
              "      <td>White</td>\n",
              "      <td>Male</td>\n",
              "      <td>0</td>\n",
              "      <td>0</td>\n",
              "      <td>13</td>\n",
              "      <td>United-States</td>\n",
              "      <td>&lt;=50K</td>\n",
              "    </tr>\n",
              "    <tr>\n",
              "      <th>2</th>\n",
              "      <td>38</td>\n",
              "      <td>Private</td>\n",
              "      <td>HS-grad</td>\n",
              "      <td>9</td>\n",
              "      <td>Divorced</td>\n",
              "      <td>Handlers-cleaners</td>\n",
              "      <td>Not-in-family</td>\n",
              "      <td>White</td>\n",
              "      <td>Male</td>\n",
              "      <td>0</td>\n",
              "      <td>0</td>\n",
              "      <td>40</td>\n",
              "      <td>United-States</td>\n",
              "      <td>&lt;=50K</td>\n",
              "    </tr>\n",
              "    <tr>\n",
              "      <th>3</th>\n",
              "      <td>53</td>\n",
              "      <td>Private</td>\n",
              "      <td>11th</td>\n",
              "      <td>7</td>\n",
              "      <td>Married-civ-spouse</td>\n",
              "      <td>Handlers-cleaners</td>\n",
              "      <td>Husband</td>\n",
              "      <td>Black</td>\n",
              "      <td>Male</td>\n",
              "      <td>0</td>\n",
              "      <td>0</td>\n",
              "      <td>40</td>\n",
              "      <td>United-States</td>\n",
              "      <td>&lt;=50K</td>\n",
              "    </tr>\n",
              "    <tr>\n",
              "      <th>4</th>\n",
              "      <td>28</td>\n",
              "      <td>Private</td>\n",
              "      <td>Bachelors</td>\n",
              "      <td>13</td>\n",
              "      <td>Married-civ-spouse</td>\n",
              "      <td>Prof-specialty</td>\n",
              "      <td>Wife</td>\n",
              "      <td>Black</td>\n",
              "      <td>Female</td>\n",
              "      <td>0</td>\n",
              "      <td>0</td>\n",
              "      <td>40</td>\n",
              "      <td>Cuba</td>\n",
              "      <td>&lt;=50K</td>\n",
              "    </tr>\n",
              "  </tbody>\n",
              "</table>\n",
              "</div>\n",
              "      <button class=\"colab-df-convert\" onclick=\"convertToInteractive('df-a81aebbe-d710-4f53-aec7-7aa3d31cbd4c')\"\n",
              "              title=\"Convert this dataframe to an interactive table.\"\n",
              "              style=\"display:none;\">\n",
              "        \n",
              "  <svg xmlns=\"http://www.w3.org/2000/svg\" height=\"24px\"viewBox=\"0 0 24 24\"\n",
              "       width=\"24px\">\n",
              "    <path d=\"M0 0h24v24H0V0z\" fill=\"none\"/>\n",
              "    <path d=\"M18.56 5.44l.94 2.06.94-2.06 2.06-.94-2.06-.94-.94-2.06-.94 2.06-2.06.94zm-11 1L8.5 8.5l.94-2.06 2.06-.94-2.06-.94L8.5 2.5l-.94 2.06-2.06.94zm10 10l.94 2.06.94-2.06 2.06-.94-2.06-.94-.94-2.06-.94 2.06-2.06.94z\"/><path d=\"M17.41 7.96l-1.37-1.37c-.4-.4-.92-.59-1.43-.59-.52 0-1.04.2-1.43.59L10.3 9.45l-7.72 7.72c-.78.78-.78 2.05 0 2.83L4 21.41c.39.39.9.59 1.41.59.51 0 1.02-.2 1.41-.59l7.78-7.78 2.81-2.81c.8-.78.8-2.07 0-2.86zM5.41 20L4 18.59l7.72-7.72 1.47 1.35L5.41 20z\"/>\n",
              "  </svg>\n",
              "      </button>\n",
              "      \n",
              "  <style>\n",
              "    .colab-df-container {\n",
              "      display:flex;\n",
              "      flex-wrap:wrap;\n",
              "      gap: 12px;\n",
              "    }\n",
              "\n",
              "    .colab-df-convert {\n",
              "      background-color: #E8F0FE;\n",
              "      border: none;\n",
              "      border-radius: 50%;\n",
              "      cursor: pointer;\n",
              "      display: none;\n",
              "      fill: #1967D2;\n",
              "      height: 32px;\n",
              "      padding: 0 0 0 0;\n",
              "      width: 32px;\n",
              "    }\n",
              "\n",
              "    .colab-df-convert:hover {\n",
              "      background-color: #E2EBFA;\n",
              "      box-shadow: 0px 1px 2px rgba(60, 64, 67, 0.3), 0px 1px 3px 1px rgba(60, 64, 67, 0.15);\n",
              "      fill: #174EA6;\n",
              "    }\n",
              "\n",
              "    [theme=dark] .colab-df-convert {\n",
              "      background-color: #3B4455;\n",
              "      fill: #D2E3FC;\n",
              "    }\n",
              "\n",
              "    [theme=dark] .colab-df-convert:hover {\n",
              "      background-color: #434B5C;\n",
              "      box-shadow: 0px 1px 3px 1px rgba(0, 0, 0, 0.15);\n",
              "      filter: drop-shadow(0px 1px 2px rgba(0, 0, 0, 0.3));\n",
              "      fill: #FFFFFF;\n",
              "    }\n",
              "  </style>\n",
              "\n",
              "      <script>\n",
              "        const buttonEl =\n",
              "          document.querySelector('#df-a81aebbe-d710-4f53-aec7-7aa3d31cbd4c button.colab-df-convert');\n",
              "        buttonEl.style.display =\n",
              "          google.colab.kernel.accessAllowed ? 'block' : 'none';\n",
              "\n",
              "        async function convertToInteractive(key) {\n",
              "          const element = document.querySelector('#df-a81aebbe-d710-4f53-aec7-7aa3d31cbd4c');\n",
              "          const dataTable =\n",
              "            await google.colab.kernel.invokeFunction('convertToInteractive',\n",
              "                                                     [key], {});\n",
              "          if (!dataTable) return;\n",
              "\n",
              "          const docLinkHtml = 'Like what you see? Visit the ' +\n",
              "            '<a target=\"_blank\" href=https://colab.research.google.com/notebooks/data_table.ipynb>data table notebook</a>'\n",
              "            + ' to learn more about interactive tables.';\n",
              "          element.innerHTML = '';\n",
              "          dataTable['output_type'] = 'display_data';\n",
              "          await google.colab.output.renderOutput(dataTable, element);\n",
              "          const docLink = document.createElement('div');\n",
              "          docLink.innerHTML = docLinkHtml;\n",
              "          element.appendChild(docLink);\n",
              "        }\n",
              "      </script>\n",
              "    </div>\n",
              "  </div>\n",
              "  "
            ]
          },
          "metadata": {},
          "execution_count": 3
        }
      ]
    },
    {
      "cell_type": "code",
      "source": [
        "test.head()"
      ],
      "metadata": {
        "colab": {
          "base_uri": "https://localhost:8080/",
          "height": 372
        },
        "id": "Z6U5CRupxQL4",
        "outputId": "b74e05a2-6d07-451b-fd2d-41585c14f58f"
      },
      "execution_count": null,
      "outputs": [
        {
          "output_type": "execute_result",
          "data": {
            "text/plain": [
              "   age   workclass      education   education-num       marital-status  \\\n",
              "0   25     Private           11th               7        Never-married   \n",
              "1   38     Private        HS-grad               9   Married-civ-spouse   \n",
              "2   28   Local-gov     Assoc-acdm              12   Married-civ-spouse   \n",
              "3   44     Private   Some-college              10   Married-civ-spouse   \n",
              "4   18           ?   Some-college              10        Never-married   \n",
              "\n",
              "           occupation  relationship    race      sex   capital-gain  \\\n",
              "0   Machine-op-inspct     Own-child   Black     Male              0   \n",
              "1     Farming-fishing       Husband   White     Male              0   \n",
              "2     Protective-serv       Husband   White     Male              0   \n",
              "3   Machine-op-inspct       Husband   Black     Male           7688   \n",
              "4                   ?     Own-child   White   Female              0   \n",
              "\n",
              "    capital-loss   hours-per-week  native-country  <=50K/>50K.  \n",
              "0              0               40   United-States       <=50K.  \n",
              "1              0               50   United-States       <=50K.  \n",
              "2              0               40   United-States        >50K.  \n",
              "3              0               40   United-States        >50K.  \n",
              "4              0               30   United-States       <=50K.  "
            ],
            "text/html": [
              "\n",
              "  <div id=\"df-bebaa9f5-b76e-43b8-b39b-e2b483a5c287\">\n",
              "    <div class=\"colab-df-container\">\n",
              "      <div>\n",
              "<style scoped>\n",
              "    .dataframe tbody tr th:only-of-type {\n",
              "        vertical-align: middle;\n",
              "    }\n",
              "\n",
              "    .dataframe tbody tr th {\n",
              "        vertical-align: top;\n",
              "    }\n",
              "\n",
              "    .dataframe thead th {\n",
              "        text-align: right;\n",
              "    }\n",
              "</style>\n",
              "<table border=\"1\" class=\"dataframe\">\n",
              "  <thead>\n",
              "    <tr style=\"text-align: right;\">\n",
              "      <th></th>\n",
              "      <th>age</th>\n",
              "      <th>workclass</th>\n",
              "      <th>education</th>\n",
              "      <th>education-num</th>\n",
              "      <th>marital-status</th>\n",
              "      <th>occupation</th>\n",
              "      <th>relationship</th>\n",
              "      <th>race</th>\n",
              "      <th>sex</th>\n",
              "      <th>capital-gain</th>\n",
              "      <th>capital-loss</th>\n",
              "      <th>hours-per-week</th>\n",
              "      <th>native-country</th>\n",
              "      <th>&lt;=50K/&gt;50K.</th>\n",
              "    </tr>\n",
              "  </thead>\n",
              "  <tbody>\n",
              "    <tr>\n",
              "      <th>0</th>\n",
              "      <td>25</td>\n",
              "      <td>Private</td>\n",
              "      <td>11th</td>\n",
              "      <td>7</td>\n",
              "      <td>Never-married</td>\n",
              "      <td>Machine-op-inspct</td>\n",
              "      <td>Own-child</td>\n",
              "      <td>Black</td>\n",
              "      <td>Male</td>\n",
              "      <td>0</td>\n",
              "      <td>0</td>\n",
              "      <td>40</td>\n",
              "      <td>United-States</td>\n",
              "      <td>&lt;=50K.</td>\n",
              "    </tr>\n",
              "    <tr>\n",
              "      <th>1</th>\n",
              "      <td>38</td>\n",
              "      <td>Private</td>\n",
              "      <td>HS-grad</td>\n",
              "      <td>9</td>\n",
              "      <td>Married-civ-spouse</td>\n",
              "      <td>Farming-fishing</td>\n",
              "      <td>Husband</td>\n",
              "      <td>White</td>\n",
              "      <td>Male</td>\n",
              "      <td>0</td>\n",
              "      <td>0</td>\n",
              "      <td>50</td>\n",
              "      <td>United-States</td>\n",
              "      <td>&lt;=50K.</td>\n",
              "    </tr>\n",
              "    <tr>\n",
              "      <th>2</th>\n",
              "      <td>28</td>\n",
              "      <td>Local-gov</td>\n",
              "      <td>Assoc-acdm</td>\n",
              "      <td>12</td>\n",
              "      <td>Married-civ-spouse</td>\n",
              "      <td>Protective-serv</td>\n",
              "      <td>Husband</td>\n",
              "      <td>White</td>\n",
              "      <td>Male</td>\n",
              "      <td>0</td>\n",
              "      <td>0</td>\n",
              "      <td>40</td>\n",
              "      <td>United-States</td>\n",
              "      <td>&gt;50K.</td>\n",
              "    </tr>\n",
              "    <tr>\n",
              "      <th>3</th>\n",
              "      <td>44</td>\n",
              "      <td>Private</td>\n",
              "      <td>Some-college</td>\n",
              "      <td>10</td>\n",
              "      <td>Married-civ-spouse</td>\n",
              "      <td>Machine-op-inspct</td>\n",
              "      <td>Husband</td>\n",
              "      <td>Black</td>\n",
              "      <td>Male</td>\n",
              "      <td>7688</td>\n",
              "      <td>0</td>\n",
              "      <td>40</td>\n",
              "      <td>United-States</td>\n",
              "      <td>&gt;50K.</td>\n",
              "    </tr>\n",
              "    <tr>\n",
              "      <th>4</th>\n",
              "      <td>18</td>\n",
              "      <td>?</td>\n",
              "      <td>Some-college</td>\n",
              "      <td>10</td>\n",
              "      <td>Never-married</td>\n",
              "      <td>?</td>\n",
              "      <td>Own-child</td>\n",
              "      <td>White</td>\n",
              "      <td>Female</td>\n",
              "      <td>0</td>\n",
              "      <td>0</td>\n",
              "      <td>30</td>\n",
              "      <td>United-States</td>\n",
              "      <td>&lt;=50K.</td>\n",
              "    </tr>\n",
              "  </tbody>\n",
              "</table>\n",
              "</div>\n",
              "      <button class=\"colab-df-convert\" onclick=\"convertToInteractive('df-bebaa9f5-b76e-43b8-b39b-e2b483a5c287')\"\n",
              "              title=\"Convert this dataframe to an interactive table.\"\n",
              "              style=\"display:none;\">\n",
              "        \n",
              "  <svg xmlns=\"http://www.w3.org/2000/svg\" height=\"24px\"viewBox=\"0 0 24 24\"\n",
              "       width=\"24px\">\n",
              "    <path d=\"M0 0h24v24H0V0z\" fill=\"none\"/>\n",
              "    <path d=\"M18.56 5.44l.94 2.06.94-2.06 2.06-.94-2.06-.94-.94-2.06-.94 2.06-2.06.94zm-11 1L8.5 8.5l.94-2.06 2.06-.94-2.06-.94L8.5 2.5l-.94 2.06-2.06.94zm10 10l.94 2.06.94-2.06 2.06-.94-2.06-.94-.94-2.06-.94 2.06-2.06.94z\"/><path d=\"M17.41 7.96l-1.37-1.37c-.4-.4-.92-.59-1.43-.59-.52 0-1.04.2-1.43.59L10.3 9.45l-7.72 7.72c-.78.78-.78 2.05 0 2.83L4 21.41c.39.39.9.59 1.41.59.51 0 1.02-.2 1.41-.59l7.78-7.78 2.81-2.81c.8-.78.8-2.07 0-2.86zM5.41 20L4 18.59l7.72-7.72 1.47 1.35L5.41 20z\"/>\n",
              "  </svg>\n",
              "      </button>\n",
              "      \n",
              "  <style>\n",
              "    .colab-df-container {\n",
              "      display:flex;\n",
              "      flex-wrap:wrap;\n",
              "      gap: 12px;\n",
              "    }\n",
              "\n",
              "    .colab-df-convert {\n",
              "      background-color: #E8F0FE;\n",
              "      border: none;\n",
              "      border-radius: 50%;\n",
              "      cursor: pointer;\n",
              "      display: none;\n",
              "      fill: #1967D2;\n",
              "      height: 32px;\n",
              "      padding: 0 0 0 0;\n",
              "      width: 32px;\n",
              "    }\n",
              "\n",
              "    .colab-df-convert:hover {\n",
              "      background-color: #E2EBFA;\n",
              "      box-shadow: 0px 1px 2px rgba(60, 64, 67, 0.3), 0px 1px 3px 1px rgba(60, 64, 67, 0.15);\n",
              "      fill: #174EA6;\n",
              "    }\n",
              "\n",
              "    [theme=dark] .colab-df-convert {\n",
              "      background-color: #3B4455;\n",
              "      fill: #D2E3FC;\n",
              "    }\n",
              "\n",
              "    [theme=dark] .colab-df-convert:hover {\n",
              "      background-color: #434B5C;\n",
              "      box-shadow: 0px 1px 3px 1px rgba(0, 0, 0, 0.15);\n",
              "      filter: drop-shadow(0px 1px 2px rgba(0, 0, 0, 0.3));\n",
              "      fill: #FFFFFF;\n",
              "    }\n",
              "  </style>\n",
              "\n",
              "      <script>\n",
              "        const buttonEl =\n",
              "          document.querySelector('#df-bebaa9f5-b76e-43b8-b39b-e2b483a5c287 button.colab-df-convert');\n",
              "        buttonEl.style.display =\n",
              "          google.colab.kernel.accessAllowed ? 'block' : 'none';\n",
              "\n",
              "        async function convertToInteractive(key) {\n",
              "          const element = document.querySelector('#df-bebaa9f5-b76e-43b8-b39b-e2b483a5c287');\n",
              "          const dataTable =\n",
              "            await google.colab.kernel.invokeFunction('convertToInteractive',\n",
              "                                                     [key], {});\n",
              "          if (!dataTable) return;\n",
              "\n",
              "          const docLinkHtml = 'Like what you see? Visit the ' +\n",
              "            '<a target=\"_blank\" href=https://colab.research.google.com/notebooks/data_table.ipynb>data table notebook</a>'\n",
              "            + ' to learn more about interactive tables.';\n",
              "          element.innerHTML = '';\n",
              "          dataTable['output_type'] = 'display_data';\n",
              "          await google.colab.output.renderOutput(dataTable, element);\n",
              "          const docLink = document.createElement('div');\n",
              "          docLink.innerHTML = docLinkHtml;\n",
              "          element.appendChild(docLink);\n",
              "        }\n",
              "      </script>\n",
              "    </div>\n",
              "  </div>\n",
              "  "
            ]
          },
          "metadata": {},
          "execution_count": 4
        }
      ]
    },
    {
      "cell_type": "code",
      "source": [
        "train.info()"
      ],
      "metadata": {
        "colab": {
          "base_uri": "https://localhost:8080/"
        },
        "id": "8KJXIRoCkS8F",
        "outputId": "cd0c0d08-8460-4c50-add6-ef222b4281d6"
      },
      "execution_count": null,
      "outputs": [
        {
          "output_type": "stream",
          "name": "stdout",
          "text": [
            "<class 'pandas.core.frame.DataFrame'>\n",
            "RangeIndex: 32561 entries, 0 to 32560\n",
            "Data columns (total 14 columns):\n",
            " #   Column           Non-Null Count  Dtype \n",
            "---  ------           --------------  ----- \n",
            " 0   age              32561 non-null  int64 \n",
            " 1    workclass       32561 non-null  object\n",
            " 2    education       32561 non-null  object\n",
            " 3    education-num   32561 non-null  int64 \n",
            " 4    marital-status  32561 non-null  object\n",
            " 5    occupation      32561 non-null  object\n",
            " 6    relationship    32561 non-null  object\n",
            " 7    race            32561 non-null  object\n",
            " 8    sex             32561 non-null  object\n",
            " 9    capital-gain    32561 non-null  int64 \n",
            " 10   capital-loss    32561 non-null  int64 \n",
            " 11   hours-per-week  32561 non-null  int64 \n",
            " 12   native-country  32561 non-null  object\n",
            " 13   <=50K/>50K.     32561 non-null  object\n",
            "dtypes: int64(5), object(9)\n",
            "memory usage: 3.5+ MB\n"
          ]
        }
      ]
    },
    {
      "cell_type": "code",
      "source": [
        "test.info()"
      ],
      "metadata": {
        "colab": {
          "base_uri": "https://localhost:8080/"
        },
        "id": "4CMiB0FHka-_",
        "outputId": "41352a20-2503-4eca-bb3d-e6226c56f1a1"
      },
      "execution_count": null,
      "outputs": [
        {
          "output_type": "stream",
          "name": "stdout",
          "text": [
            "<class 'pandas.core.frame.DataFrame'>\n",
            "RangeIndex: 16281 entries, 0 to 16280\n",
            "Data columns (total 14 columns):\n",
            " #   Column           Non-Null Count  Dtype \n",
            "---  ------           --------------  ----- \n",
            " 0   age              16281 non-null  int64 \n",
            " 1    workclass       16281 non-null  object\n",
            " 2    education       16281 non-null  object\n",
            " 3    education-num   16281 non-null  int64 \n",
            " 4    marital-status  16281 non-null  object\n",
            " 5    occupation      16281 non-null  object\n",
            " 6    relationship    16281 non-null  object\n",
            " 7    race            16281 non-null  object\n",
            " 8    sex             16281 non-null  object\n",
            " 9    capital-gain    16281 non-null  int64 \n",
            " 10   capital-loss    16281 non-null  int64 \n",
            " 11   hours-per-week  16281 non-null  int64 \n",
            " 12   native-country  16281 non-null  object\n",
            " 13   <=50K/>50K.     16281 non-null  object\n",
            "dtypes: int64(5), object(9)\n",
            "memory usage: 1.7+ MB\n"
          ]
        }
      ]
    },
    {
      "cell_type": "code",
      "source": [
        "#Looking for the missing value\n",
        "train.replace(' ?',np.nan,inplace=True)\n",
        "train.isnull().sum()"
      ],
      "metadata": {
        "colab": {
          "base_uri": "https://localhost:8080/"
        },
        "id": "axBBZyDwCzTF",
        "outputId": "b3e89f05-8042-4948-91b6-9038c6e9afbb"
      },
      "execution_count": null,
      "outputs": [
        {
          "output_type": "execute_result",
          "data": {
            "text/plain": [
              "age                   0\n",
              " workclass         1836\n",
              " education            0\n",
              " education-num        0\n",
              " marital-status       0\n",
              " occupation        1843\n",
              " relationship         0\n",
              " race                 0\n",
              " sex                  0\n",
              " capital-gain         0\n",
              " capital-loss         0\n",
              " hours-per-week       0\n",
              " native-country     583\n",
              " <=50K/>50K.          0\n",
              "dtype: int64"
            ]
          },
          "metadata": {},
          "execution_count": 7
        }
      ]
    },
    {
      "cell_type": "code",
      "source": [
        "#Imputing\n",
        "from sklearn.impute import SimpleImputer\n",
        "imputer = SimpleImputer(strategy='most_frequent')\n",
        "result = imputer.fit_transform(train[[' workclass',' occupation',' native-country']])\n",
        "train[[' workclass',' occupation',' native-country']] = result\n",
        "train.isnull().sum()"
      ],
      "metadata": {
        "colab": {
          "base_uri": "https://localhost:8080/"
        },
        "id": "-smcjNo2JfnE",
        "outputId": "b5626574-3f7f-446f-efd1-b1dbe7d87c78"
      },
      "execution_count": null,
      "outputs": [
        {
          "output_type": "execute_result",
          "data": {
            "text/plain": [
              "age                0\n",
              " workclass         0\n",
              " education         0\n",
              " education-num     0\n",
              " marital-status    0\n",
              " occupation        0\n",
              " relationship      0\n",
              " race              0\n",
              " sex               0\n",
              " capital-gain      0\n",
              " capital-loss      0\n",
              " hours-per-week    0\n",
              " native-country    0\n",
              " <=50K/>50K.       0\n",
              "dtype: int64"
            ]
          },
          "metadata": {},
          "execution_count": 8
        }
      ]
    },
    {
      "cell_type": "code",
      "source": [
        "target = train.pop(' <=50K/>50K.')\n",
        "print(target)"
      ],
      "metadata": {
        "colab": {
          "base_uri": "https://localhost:8080/"
        },
        "id": "JPb01L-inbl2",
        "outputId": "1b0efdba-c053-4d63-f991-380065ce926a"
      },
      "execution_count": null,
      "outputs": [
        {
          "output_type": "stream",
          "name": "stdout",
          "text": [
            "0         <=50K\n",
            "1         <=50K\n",
            "2         <=50K\n",
            "3         <=50K\n",
            "4         <=50K\n",
            "          ...  \n",
            "32556     <=50K\n",
            "32557      >50K\n",
            "32558     <=50K\n",
            "32559     <=50K\n",
            "32560      >50K\n",
            "Name:  <=50K/>50K., Length: 32561, dtype: object\n"
          ]
        }
      ]
    },
    {
      "cell_type": "code",
      "source": [
        "#Convert Categorical Values to their numerical representation\n",
        "num_train = pd.get_dummies(data=train, columns=[' workclass',' education',' marital-status',' occupation',' relationship',' race',' sex',' native-country'])\n",
        "print(num_train)\n",
        "print(num_train.columns)"
      ],
      "metadata": {
        "colab": {
          "base_uri": "https://localhost:8080/"
        },
        "id": "W7IgtPFeK5cj",
        "outputId": "b76865ab-7473-4986-b73d-a03bccb68e49"
      },
      "execution_count": null,
      "outputs": [
        {
          "output_type": "stream",
          "name": "stdout",
          "text": [
            "       age   education-num   capital-gain   capital-loss   hours-per-week  \\\n",
            "0       39              13           2174              0               40   \n",
            "1       50              13              0              0               13   \n",
            "2       38               9              0              0               40   \n",
            "3       53               7              0              0               40   \n",
            "4       28              13              0              0               40   \n",
            "...    ...             ...            ...            ...              ...   \n",
            "32556   27              12              0              0               38   \n",
            "32557   40               9              0              0               40   \n",
            "32558   58               9              0              0               40   \n",
            "32559   22               9              0              0               20   \n",
            "32560   52               9          15024              0               40   \n",
            "\n",
            "        workclass_ Federal-gov   workclass_ Local-gov  \\\n",
            "0                            0                      0   \n",
            "1                            0                      0   \n",
            "2                            0                      0   \n",
            "3                            0                      0   \n",
            "4                            0                      0   \n",
            "...                        ...                    ...   \n",
            "32556                        0                      0   \n",
            "32557                        0                      0   \n",
            "32558                        0                      0   \n",
            "32559                        0                      0   \n",
            "32560                        0                      0   \n",
            "\n",
            "        workclass_ Never-worked   workclass_ Private  \\\n",
            "0                             0                    0   \n",
            "1                             0                    0   \n",
            "2                             0                    1   \n",
            "3                             0                    1   \n",
            "4                             0                    1   \n",
            "...                         ...                  ...   \n",
            "32556                         0                    1   \n",
            "32557                         0                    1   \n",
            "32558                         0                    1   \n",
            "32559                         0                    1   \n",
            "32560                         0                    0   \n",
            "\n",
            "        workclass_ Self-emp-inc  ...   native-country_ Portugal  \\\n",
            "0                             0  ...                          0   \n",
            "1                             0  ...                          0   \n",
            "2                             0  ...                          0   \n",
            "3                             0  ...                          0   \n",
            "4                             0  ...                          0   \n",
            "...                         ...  ...                        ...   \n",
            "32556                         0  ...                          0   \n",
            "32557                         0  ...                          0   \n",
            "32558                         0  ...                          0   \n",
            "32559                         0  ...                          0   \n",
            "32560                         1  ...                          0   \n",
            "\n",
            "        native-country_ Puerto-Rico   native-country_ Scotland  \\\n",
            "0                                 0                          0   \n",
            "1                                 0                          0   \n",
            "2                                 0                          0   \n",
            "3                                 0                          0   \n",
            "4                                 0                          0   \n",
            "...                             ...                        ...   \n",
            "32556                             0                          0   \n",
            "32557                             0                          0   \n",
            "32558                             0                          0   \n",
            "32559                             0                          0   \n",
            "32560                             0                          0   \n",
            "\n",
            "        native-country_ South   native-country_ Taiwan  \\\n",
            "0                           0                        0   \n",
            "1                           0                        0   \n",
            "2                           0                        0   \n",
            "3                           0                        0   \n",
            "4                           0                        0   \n",
            "...                       ...                      ...   \n",
            "32556                       0                        0   \n",
            "32557                       0                        0   \n",
            "32558                       0                        0   \n",
            "32559                       0                        0   \n",
            "32560                       0                        0   \n",
            "\n",
            "        native-country_ Thailand   native-country_ Trinadad&Tobago  \\\n",
            "0                              0                                 0   \n",
            "1                              0                                 0   \n",
            "2                              0                                 0   \n",
            "3                              0                                 0   \n",
            "4                              0                                 0   \n",
            "...                          ...                               ...   \n",
            "32556                          0                                 0   \n",
            "32557                          0                                 0   \n",
            "32558                          0                                 0   \n",
            "32559                          0                                 0   \n",
            "32560                          0                                 0   \n",
            "\n",
            "        native-country_ United-States   native-country_ Vietnam  \\\n",
            "0                                   1                         0   \n",
            "1                                   1                         0   \n",
            "2                                   1                         0   \n",
            "3                                   1                         0   \n",
            "4                                   0                         0   \n",
            "...                               ...                       ...   \n",
            "32556                               1                         0   \n",
            "32557                               1                         0   \n",
            "32558                               1                         0   \n",
            "32559                               1                         0   \n",
            "32560                               1                         0   \n",
            "\n",
            "        native-country_ Yugoslavia  \n",
            "0                                0  \n",
            "1                                0  \n",
            "2                                0  \n",
            "3                                0  \n",
            "4                                0  \n",
            "...                            ...  \n",
            "32556                            0  \n",
            "32557                            0  \n",
            "32558                            0  \n",
            "32559                            0  \n",
            "32560                            0  \n",
            "\n",
            "[32561 rows x 104 columns]\n",
            "Index(['age', ' education-num', ' capital-gain', ' capital-loss',\n",
            "       ' hours-per-week', ' workclass_ Federal-gov', ' workclass_ Local-gov',\n",
            "       ' workclass_ Never-worked', ' workclass_ Private',\n",
            "       ' workclass_ Self-emp-inc',\n",
            "       ...\n",
            "       ' native-country_ Portugal', ' native-country_ Puerto-Rico',\n",
            "       ' native-country_ Scotland', ' native-country_ South',\n",
            "       ' native-country_ Taiwan', ' native-country_ Thailand',\n",
            "       ' native-country_ Trinadad&Tobago', ' native-country_ United-States',\n",
            "       ' native-country_ Vietnam', ' native-country_ Yugoslavia'],\n",
            "      dtype='object', length=104)\n"
          ]
        }
      ]
    },
    {
      "cell_type": "code",
      "source": [
        "mapping = {' <=50K':0, ' >50K':1}\n",
        "target = target.map(mapping)"
      ],
      "metadata": {
        "id": "jWlttJZr7MXR"
      },
      "execution_count": null,
      "outputs": []
    },
    {
      "cell_type": "code",
      "source": [
        "print(target)"
      ],
      "metadata": {
        "colab": {
          "base_uri": "https://localhost:8080/"
        },
        "id": "VtMSmZ4OHtzj",
        "outputId": "7dac5a71-c558-4989-f213-193ee69b863d"
      },
      "execution_count": null,
      "outputs": [
        {
          "output_type": "stream",
          "name": "stdout",
          "text": [
            "0        0\n",
            "1        0\n",
            "2        0\n",
            "3        0\n",
            "4        0\n",
            "        ..\n",
            "32556    0\n",
            "32557    1\n",
            "32558    0\n",
            "32559    0\n",
            "32560    1\n",
            "Name:  <=50K/>50K., Length: 32561, dtype: int64\n"
          ]
        }
      ]
    },
    {
      "cell_type": "code",
      "source": [
        "# normalize numerical features through data scaling.\n",
        "from sklearn.preprocessing import MinMaxScaler\n",
        "min_max_scaler = MinMaxScaler()\n",
        "norm_train = min_max_scaler.fit_transform(num_train)"
      ],
      "metadata": {
        "id": "h965Uy5741Px"
      },
      "execution_count": null,
      "outputs": []
    },
    {
      "cell_type": "code",
      "source": [
        "print(norm_train)\n",
        "print(norm_train.shape)"
      ],
      "metadata": {
        "colab": {
          "base_uri": "https://localhost:8080/"
        },
        "id": "LGILwrO9iHT_",
        "outputId": "581c9772-6ec5-4ea3-e4f9-7fc3a356cc60"
      },
      "execution_count": null,
      "outputs": [
        {
          "output_type": "stream",
          "name": "stdout",
          "text": [
            "[[0.30136986 0.8        0.02174022 ... 1.         0.         0.        ]\n",
            " [0.45205479 0.8        0.         ... 1.         0.         0.        ]\n",
            " [0.28767123 0.53333333 0.         ... 1.         0.         0.        ]\n",
            " ...\n",
            " [0.56164384 0.53333333 0.         ... 1.         0.         0.        ]\n",
            " [0.06849315 0.53333333 0.         ... 1.         0.         0.        ]\n",
            " [0.47945205 0.53333333 0.1502415  ... 1.         0.         0.        ]]\n",
            "(32561, 104)\n"
          ]
        }
      ]
    },
    {
      "cell_type": "markdown",
      "source": [
        "Pre-processing\n",
        "- Input normalisation: Normalise(rescale) features to lie on a sensible scale. Useful for network/model training, and for visual inspectation of data.\n",
        "- Imputing: filling the missing data\n",
        "- Feature construction and selection: Incorporate your domain knowledge to select features that are likely to be useful. Mindfully build features from the data based on visual inspection and consideration of the task to be done.\n",
        "- Dimensionality reduction: use maths to efficiently reduce the number of dimensions. Define a few new variables that are combinations of the raw variables, and account for most of the variance."
      ],
      "metadata": {
        "id": "ou1T9xQHsArr"
      }
    },
    {
      "cell_type": "code",
      "source": [
        "#train test split\n",
        "from sklearn.model_selection import train_test_split\n",
        "x_train, x_val, y_train, y_val = train_test_split(norm_train,target, test_size=0.2)\n",
        "print(\"x_train: \",x_train.shape)\n",
        "print(\"x_val: \",x_val.shape)\n",
        "print(\"y_train: \",y_train.shape)\n",
        "print(\"y_val: \",y_val.shape)"
      ],
      "metadata": {
        "id": "i8tyuq-1vyr_",
        "colab": {
          "base_uri": "https://localhost:8080/"
        },
        "outputId": "c0590d74-4f5b-47ba-d96b-73e302a0d89b"
      },
      "execution_count": null,
      "outputs": [
        {
          "output_type": "stream",
          "name": "stdout",
          "text": [
            "x_train:  (26048, 104)\n",
            "x_val:  (6513, 104)\n",
            "y_train:  (26048,)\n",
            "y_val:  (6513,)\n"
          ]
        }
      ]
    },
    {
      "cell_type": "code",
      "source": [
        "from sklearn.model_selection import train_test_split, cross_validate\n",
        "\n",
        "from sklearn.ensemble import RandomForestClassifier\n",
        "from sklearn.svm import SVC\n",
        "from sklearn.neural_network import MLPClassifier\n",
        "from sklearn.linear_model import LogisticRegression, Perceptron"
      ],
      "metadata": {
        "id": "PPfouj1ZYPpn"
      },
      "execution_count": null,
      "outputs": []
    },
    {
      "cell_type": "code",
      "source": [
        "from tqdm import tqdm\n",
        "models = {\"RF\": RandomForestClassifier(), \n",
        "          \"SVC\": SVC(),\n",
        "          \"LR\": LogisticRegression(),\n",
        "          \"SLP\": Perceptron(),\n",
        "          \"MLP\": MLPClassifier(),\n",
        "         }\n",
        "for model_name, model in tqdm(models.items(), desc=\"Model fit\", total=len(models)):\n",
        "    model.fit(x_train, y_train)"
      ],
      "metadata": {
        "colab": {
          "base_uri": "https://localhost:8080/"
        },
        "id": "vwPvfmc8yCIg",
        "outputId": "312fbaec-b2d0-4fd8-c35a-7d5dd39cd0a2"
      },
      "execution_count": null,
      "outputs": [
        {
          "output_type": "stream",
          "name": "stderr",
          "text": [
            "Model fit:  40%|████      | 2/5 [00:53<01:32, 30.70s/it]/usr/local/lib/python3.7/dist-packages/sklearn/linear_model/_logistic.py:818: ConvergenceWarning: lbfgs failed to converge (status=1):\n",
            "STOP: TOTAL NO. of ITERATIONS REACHED LIMIT.\n",
            "\n",
            "Increase the number of iterations (max_iter) or scale the data as shown in:\n",
            "    https://scikit-learn.org/stable/modules/preprocessing.html\n",
            "Please also refer to the documentation for alternative solver options:\n",
            "    https://scikit-learn.org/stable/modules/linear_model.html#logistic-regression\n",
            "  extra_warning_msg=_LOGISTIC_SOLVER_CONVERGENCE_MSG,\n",
            "Model fit:  80%|████████  | 4/5 [00:54<00:10, 10.40s/it]/usr/local/lib/python3.7/dist-packages/sklearn/neural_network/_multilayer_perceptron.py:696: ConvergenceWarning: Stochastic Optimizer: Maximum iterations (200) reached and the optimization hasn't converged yet.\n",
            "  ConvergenceWarning,\n",
            "Model fit: 100%|██████████| 5/5 [01:42<00:00, 20.51s/it]\n"
          ]
        }
      ]
    },
    {
      "cell_type": "code",
      "source": [
        "#accuracy\n",
        "accuracy=[]\n",
        "from sklearn.metrics import accuracy_score\n",
        "for model_name, model in models.items():\n",
        "  pred = model.predict(x_val)\n",
        "  acc = accuracy_score(y_val, pred)\n",
        "  accuracy.append(acc)\n",
        "  print(f\"{model_name} / Training Accuracy: {acc}%\")"
      ],
      "metadata": {
        "colab": {
          "base_uri": "https://localhost:8080/"
        },
        "id": "lQWs8VMMzxiB",
        "outputId": "69e87f26-be01-439b-fc3d-f68f166cf897"
      },
      "execution_count": null,
      "outputs": [
        {
          "output_type": "stream",
          "name": "stdout",
          "text": [
            "RF / Training Accuracy: 0.8506064793489944%\n",
            "SVC / Training Accuracy: 0.8398587440503608%\n",
            "LR / Training Accuracy: 0.8489175495163519%\n",
            "SLP / Training Accuracy: 0.8050053738676494%\n",
            "MLP / Training Accuracy: 0.8475356978350991%\n"
          ]
        }
      ]
    },
    {
      "cell_type": "code",
      "source": [
        "#precision\n",
        "precision=[]\n",
        "from sklearn.metrics import precision_score\n",
        "for model_name, model in models.items():\n",
        "  pred = model.predict(x_val)\n",
        "  prec = precision_score(y_val, pred)\n",
        "  precision.append(prec)\n",
        "  print(f\"{model_name} / Training Precision: {prec}%\")"
      ],
      "metadata": {
        "colab": {
          "base_uri": "https://localhost:8080/"
        },
        "id": "_gDT2kMb2LYE",
        "outputId": "dfee157b-60eb-4023-82e5-e6f911d4e0b6"
      },
      "execution_count": null,
      "outputs": [
        {
          "output_type": "stream",
          "name": "stdout",
          "text": [
            "RF / Training Precision: 0.7079970652971387%\n",
            "SVC / Training Precision: 0.7212822796081924%\n",
            "LR / Training Precision: 0.7188976377952756%\n",
            "SLP / Training Precision: 0.8534031413612565%\n",
            "MLP / Training Precision: 0.7269709543568464%\n"
          ]
        }
      ]
    },
    {
      "cell_type": "code",
      "source": [
        "#Recall\n",
        "Recall=[]\n",
        "from sklearn.metrics import recall_score\n",
        "for model_name, model in models.items():\n",
        "  recall = model.predict(x_val)\n",
        "  recall = recall_score(y_val, recall)\n",
        "  Recall.append(recall)\n",
        "  print(f\"{model_name} / Training Recall: {recall}\")"
      ],
      "metadata": {
        "colab": {
          "base_uri": "https://localhost:8080/"
        },
        "id": "bTnQN86-3yEx",
        "outputId": "3d20bc85-5386-44bf-fa3b-57068e0450d6"
      },
      "execution_count": null,
      "outputs": [
        {
          "output_type": "stream",
          "name": "stdout",
          "text": [
            "RF / Training Recall: 0.6266233766233766\n",
            "SVC / Training Recall: 0.525974025974026\n",
            "LR / Training Recall: 0.5928571428571429\n",
            "SLP / Training Recall: 0.21168831168831168\n",
            "MLP / Training Recall: 0.5688311688311688\n"
          ]
        }
      ]
    },
    {
      "cell_type": "code",
      "source": [
        "#F1\n",
        "F1=[]\n",
        "from sklearn.metrics import f1_score\n",
        "for model_name, model in models.items():\n",
        "  f1 = model.predict(x_val)\n",
        "  f1 = f1_score(y_val, f1)\n",
        "  F1.append(f1)\n",
        "  print(f\"{model_name} / Training F1: {f1}\")"
      ],
      "metadata": {
        "colab": {
          "base_uri": "https://localhost:8080/"
        },
        "id": "K_hTyjlG50zT",
        "outputId": "832d255d-55aa-44ff-b5a6-1e69fcfe2484"
      },
      "execution_count": null,
      "outputs": [
        {
          "output_type": "stream",
          "name": "stdout",
          "text": [
            "RF / Training F1: 0.6648294867378574\n",
            "SVC / Training F1: 0.6083364626361247\n",
            "LR / Training F1: 0.6498220640569395\n",
            "SLP / Training F1: 0.3392299687825182\n",
            "MLP / Training F1: 0.6382513661202186\n"
          ]
        }
      ]
    },
    {
      "cell_type": "code",
      "source": [
        "#Graph it for easy to view\n",
        "import matplotlib.pyplot as plt\n",
        "label = ['RF','SVC','LR','SLP','MLP']\n",
        "index = np.arange(len(label))\n",
        "bar_width = 0.35\n",
        "p1 = plt.bar(index, accuracy, bar_width, color='yellow',label='Accuracy')\n",
        "p2 = plt.bar(index+bar_width, F1, bar_width, color='pink', label='F1')\n",
        "plt.title('Accuracy&F1 score', fontsize=17)\n",
        "plt.xlabel('model', fontsize=15)\n",
        "plt.xticks(index, label, fontsize=13)\n",
        "plt.legend((p1[0], p2[0]), ('Accuracy', 'F1'), fontsize=8)\n",
        "plt.show()"
      ],
      "metadata": {
        "colab": {
          "base_uri": "https://localhost:8080/",
          "height": 307
        },
        "id": "ggIJQamTWQUe",
        "outputId": "b3c40881-2518-4757-9e46-b1d307f75130"
      },
      "execution_count": null,
      "outputs": [
        {
          "output_type": "display_data",
          "data": {
            "text/plain": [
              "<Figure size 432x288 with 1 Axes>"
            ],
            "image/png": "[encoded data removed]"
          },
          "metadata": {
            "needs_background": "light"
          }
        }
      ]
    },
    {
      "cell_type": "code",
      "source": [
        "label = ['RF','SVC','LR','SLP','MLP']\n",
        "index = np.arange(len(label))\n",
        "bar_width = 0.3\n",
        "p1 = plt.bar(index, precision, bar_width, color='g',label='Precision')\n",
        "p2 = plt.bar(index+bar_width, Recall, bar_width, color='b', label='Recall')\n",
        "plt.title('Precision&Recall score', fontsize=17)\n",
        "plt.xlabel('model', fontsize=15)\n",
        "plt.xticks(index, label, fontsize=13)\n",
        "plt.legend((p1[0], p2[0]), ('Precision', 'Recall'), fontsize=8)\n",
        "plt.show()"
      ],
      "metadata": {
        "colab": {
          "base_uri": "https://localhost:8080/",
          "height": 307
        },
        "id": "jAC3EBTb2yq3",
        "outputId": "34da1264-7c66-435f-ab48-cf26ad7504c2"
      },
      "execution_count": null,
      "outputs": [
        {
          "output_type": "display_data",
          "data": {
            "text/plain": [
              "<Figure size 432x288 with 1 Axes>"
            ],
            "image/png": "[encoded data removed]"
          },
          "metadata": {
            "needs_background": "light"
          }
        }
      ]
    },
    {
      "cell_type": "code",
      "source": [
        "x_total = np.concatenate((x_train, x_val), axis=0)\n",
        "y_total = np.concatenate((y_train, y_val), axis=0)"
      ],
      "metadata": {
        "id": "ll-XrlYGbm5i"
      },
      "execution_count": null,
      "outputs": []
    },
    {
      "cell_type": "code",
      "source": [
        "#k-fold cross validation\n",
        "from sklearn.model_selection import cross_val_score\n",
        "from sklearn.model_selection import KFold\n",
        "rf = RandomForestClassifier() # Create Model Object\n",
        "for n in [3, 5]:\n",
        "  kfold = KFold(n_splits=n)\n",
        "  RFscores = cross_val_score(rf, x_total, y_total,scoring='accuracy', cv=kfold)\n",
        "  print('n_splits={}, RandomForest cross validation score: {}'.format(n, RFscores.mean()))"
      ],
      "metadata": {
        "colab": {
          "base_uri": "https://localhost:8080/"
        },
        "id": "lxkWbE-FZlxg",
        "outputId": "6f5a4ef1-b820-4ae7-9067-39f5670c4d12"
      },
      "execution_count": null,
      "outputs": [
        {
          "output_type": "stream",
          "name": "stdout",
          "text": [
            "n_splits=3, RandomForest cross validation score: 0.8461657164929708\n",
            "n_splits=5, RandomForest cross validation score: 0.8455514127669816\n"
          ]
        }
      ]
    },
    {
      "cell_type": "code",
      "source": [
        "from sklearn.model_selection import cross_val_score\n",
        "svc = SVC()\n",
        "for n in [3, 5]:\n",
        "  kfold = KFold(n_splits=n)\n",
        "  SVCscores = cross_val_score(svc, x_total, y_total, scoring='accuracy', cv=kfold)\n",
        "  print('n_splits={}, svc cross validation score: {}'.format(n, SVCscores.mean()))"
      ],
      "metadata": {
        "colab": {
          "base_uri": "https://localhost:8080/"
        },
        "id": "1TIRa-dUlaW_",
        "outputId": "cb356225-76fb-4d60-ad0a-3b2a726196fc"
      },
      "execution_count": null,
      "outputs": [
        {
          "output_type": "stream",
          "name": "stdout",
          "text": [
            "n_splits=3, svc cross validation score: 0.8372593579928629\n",
            "n_splits=5, svc cross validation score: 0.8372593124090131\n"
          ]
        }
      ]
    },
    {
      "cell_type": "code",
      "source": [
        "from sklearn.model_selection import cross_val_score\n",
        "from sklearn.model_selection import KFold\n",
        "lr = LogisticRegression(max_iter=500)\n",
        "for n in [3, 5]:\n",
        "  kfold = KFold(n_splits=n)\n",
        "  LRscores = cross_val_score(lr, x_total, y_total, scoring='accuracy', cv=kfold)\n",
        "  print('n_splits={}, LogisticRegression cross validation score: {}'.format(n, LRscores.mean()))"
      ],
      "metadata": {
        "colab": {
          "base_uri": "https://localhost:8080/"
        },
        "id": "_IpVZpyMhBM8",
        "outputId": "9d384f71-91d2-4dc4-a601-d41a1bd2c274"
      },
      "execution_count": null,
      "outputs": [
        {
          "output_type": "stream",
          "name": "stdout",
          "text": [
            "n_splits=3, LogisticRegression cross validation score: 0.8492675792886555\n",
            "n_splits=5, LogisticRegression cross validation score: 0.8496974346525243\n"
          ]
        }
      ]
    },
    {
      "cell_type": "code",
      "source": [
        "from sklearn.model_selection import cross_val_score\n",
        "from sklearn.model_selection import KFold\n",
        "slp = Perceptron()\n",
        "for n in [3, 5]:\n",
        "  kfold = KFold(n_splits=n)\n",
        "  Perceptronscores = cross_val_score(slp, x_total, y_total, scoring='accuracy', cv=kfold)\n",
        "  print('n_splits={}, Perceptron cross validation score: {}'.format(n, Perceptronscores.mean()))"
      ],
      "metadata": {
        "colab": {
          "base_uri": "https://localhost:8080/"
        },
        "id": "Eyt-EK6EiUuo",
        "outputId": "e9e941fa-5180-456c-8f6e-32b69e107d10"
      },
      "execution_count": null,
      "outputs": [
        {
          "output_type": "stream",
          "name": "stdout",
          "text": [
            "n_splits=3, Perceptron cross validation score: 0.7825934518567822\n",
            "n_splits=5, Perceptron cross validation score: 0.7569463888326163\n"
          ]
        }
      ]
    },
    {
      "cell_type": "code",
      "source": [
        "from sklearn.model_selection import cross_val_score\n",
        "from sklearn.model_selection import KFold\n",
        "mlp = MLPClassifier()\n",
        "for n in [3, 5]:\n",
        "  kfold = KFold(n_splits=n)\n",
        "  mlpscores = cross_val_score(mlp, x_total, y_total, cv=kfold)\n",
        "  print('n_splits={}, MLP cross validation score: {}'.format(n, mlpscores.mean()))"
      ],
      "metadata": {
        "colab": {
          "base_uri": "https://localhost:8080/"
        },
        "id": "Z-GmwB6ifUNv",
        "outputId": "8ade4308-fd0e-4eea-f320-2b74df32295f"
      },
      "execution_count": null,
      "outputs": [
        {
          "output_type": "stream",
          "name": "stderr",
          "text": [
            "/usr/local/lib/python3.7/dist-packages/sklearn/neural_network/_multilayer_perceptron.py:696: ConvergenceWarning: Stochastic Optimizer: Maximum iterations (200) reached and the optimization hasn't converged yet.\n",
            "  ConvergenceWarning,\n",
            "/usr/local/lib/python3.7/dist-packages/sklearn/neural_network/_multilayer_perceptron.py:696: ConvergenceWarning: Stochastic Optimizer: Maximum iterations (200) reached and the optimization hasn't converged yet.\n",
            "  ConvergenceWarning,\n",
            "/usr/local/lib/python3.7/dist-packages/sklearn/neural_network/_multilayer_perceptron.py:696: ConvergenceWarning: Stochastic Optimizer: Maximum iterations (200) reached and the optimization hasn't converged yet.\n",
            "  ConvergenceWarning,\n"
          ]
        },
        {
          "output_type": "stream",
          "name": "stdout",
          "text": [
            "n_splits=3, MLP cross validation score: 0.8462579021900417\n"
          ]
        },
        {
          "output_type": "stream",
          "name": "stderr",
          "text": [
            "/usr/local/lib/python3.7/dist-packages/sklearn/neural_network/_multilayer_perceptron.py:696: ConvergenceWarning: Stochastic Optimizer: Maximum iterations (200) reached and the optimization hasn't converged yet.\n",
            "  ConvergenceWarning,\n",
            "/usr/local/lib/python3.7/dist-packages/sklearn/neural_network/_multilayer_perceptron.py:696: ConvergenceWarning: Stochastic Optimizer: Maximum iterations (200) reached and the optimization hasn't converged yet.\n",
            "  ConvergenceWarning,\n",
            "/usr/local/lib/python3.7/dist-packages/sklearn/neural_network/_multilayer_perceptron.py:696: ConvergenceWarning: Stochastic Optimizer: Maximum iterations (200) reached and the optimization hasn't converged yet.\n",
            "  ConvergenceWarning,\n",
            "/usr/local/lib/python3.7/dist-packages/sklearn/neural_network/_multilayer_perceptron.py:696: ConvergenceWarning: Stochastic Optimizer: Maximum iterations (200) reached and the optimization hasn't converged yet.\n",
            "  ConvergenceWarning,\n"
          ]
        },
        {
          "output_type": "stream",
          "name": "stdout",
          "text": [
            "n_splits=5, MLP cross validation score: 0.8458279575794545\n"
          ]
        },
        {
          "output_type": "stream",
          "name": "stderr",
          "text": [
            "/usr/local/lib/python3.7/dist-packages/sklearn/neural_network/_multilayer_perceptron.py:696: ConvergenceWarning: Stochastic Optimizer: Maximum iterations (200) reached and the optimization hasn't converged yet.\n",
            "  ConvergenceWarning,\n"
          ]
        }
      ]
    },
    {
      "cell_type": "code",
      "source": [
        "#GridSearchCV\n",
        "from sklearn.model_selection import GridSearchCV\n",
        "lr = LogisticRegression(max_iter=500, solver='liblinear')\n",
        "params = {'penalty':['l2', 'l1'],\n",
        "         'C':[0.01, 0.1, 1, 5, 10]}\n",
        "grid_lr = GridSearchCV(lr, param_grid=params, scoring='accuracy', cv=3)\n",
        "grid_lr.fit(x_total, y_total)\n",
        "print('Optimal Hyperparameters :{0}, Optimal Mean Accuracy :{1:.3f}'.format(grid_lr.best_params_,\n",
        "                                                   grid_lr.best_score_))\n"
      ],
      "metadata": {
        "colab": {
          "base_uri": "https://localhost:8080/"
        },
        "id": "EEXn65xZBLze",
        "outputId": "8fa17fab-5b92-4c08-b884-6a81c81fe70e"
      },
      "execution_count": null,
      "outputs": [
        {
          "output_type": "stream",
          "name": "stdout",
          "text": [
            "Optimal Hyperparameters :{'C': 5, 'penalty': 'l1'}, Optimal Mean Accuracy :0.851\n"
          ]
        }
      ]
    },
    {
      "cell_type": "code",
      "source": [
        "pd.DataFrame(grid_lr.cv_results_)"
      ],
      "metadata": {
        "colab": {
          "base_uri": "https://localhost:8080/",
          "height": 809
        },
        "id": "LENS15oxQi6v",
        "outputId": "ad2f4b82-c1c4-4e88-8bea-6057dc432a3a"
      },
      "execution_count": null,
      "outputs": [
        {
          "output_type": "execute_result",
          "data": {
            "text/plain": [
              "   mean_fit_time  std_fit_time  mean_score_time  std_score_time param_C  \\\n",
              "0       0.084342      0.012503         0.005006        0.001425    0.01   \n",
              "1       0.217338      0.006374         0.004020        0.000292    0.01   \n",
              "2       0.136000      0.004383         0.004629        0.000981     0.1   \n",
              "3       1.171115      0.091477         0.004042        0.000303     0.1   \n",
              "4       0.179892      0.011022         0.004283        0.000532       1   \n",
              "5       8.809258      0.194611         0.005014        0.000572       1   \n",
              "6       0.239667      0.016962         0.004619        0.001024       5   \n",
              "7       5.433453      1.404891         0.004446        0.000095       5   \n",
              "8       0.254360      0.005996         0.004961        0.000704      10   \n",
              "9       3.460837      0.626818         0.005389        0.001909      10   \n",
              "\n",
              "  param_penalty                        params  split0_test_score  \\\n",
              "0            l2  {'C': 0.01, 'penalty': 'l2'}           0.829832   \n",
              "1            l1  {'C': 0.01, 'penalty': 'l1'}           0.822185   \n",
              "2            l2   {'C': 0.1, 'penalty': 'l2'}           0.838769   \n",
              "3            l1   {'C': 0.1, 'penalty': 'l1'}           0.849456   \n",
              "4            l2     {'C': 1, 'penalty': 'l2'}           0.850101   \n",
              "5            l1     {'C': 1, 'penalty': 'l1'}           0.851391   \n",
              "6            l2     {'C': 5, 'penalty': 'l2'}           0.851299   \n",
              "7            l1     {'C': 5, 'penalty': 'l1'}           0.850931   \n",
              "8            l2    {'C': 10, 'penalty': 'l2'}           0.851299   \n",
              "9            l1    {'C': 10, 'penalty': 'l1'}           0.850654   \n",
              "\n",
              "   split1_test_score  split2_test_score  mean_test_score  std_test_score  \\\n",
              "0           0.831399           0.830738         0.830656        0.000642   \n",
              "1           0.823936           0.822169         0.822763        0.000829   \n",
              "2           0.838677           0.840413         0.839286        0.000797   \n",
              "3           0.847798           0.852391         0.849882        0.001899   \n",
              "4           0.847245           0.850456         0.849268        0.001437   \n",
              "5           0.847522           0.852852         0.850588        0.002249   \n",
              "6           0.847798           0.852207         0.850435        0.001901   \n",
              "7           0.847706           0.853128         0.850588        0.002227   \n",
              "8           0.847798           0.852115         0.850404        0.001872   \n",
              "9           0.847706           0.853128         0.850496        0.002216   \n",
              "\n",
              "   rank_test_score  \n",
              "0                9  \n",
              "1               10  \n",
              "2                8  \n",
              "3                6  \n",
              "4                7  \n",
              "5                2  \n",
              "6                4  \n",
              "7                1  \n",
              "8                5  \n",
              "9                3  "
            ],
            "text/html": [
              "\n",
              "  <div id=\"df-6a68f2e3-1707-4876-a395-a443e192d6ec\">\n",
              "    <div class=\"colab-df-container\">\n",
              "      <div>\n",
              "<style scoped>\n",
              "    .dataframe tbody tr th:only-of-type {\n",
              "        vertical-align: middle;\n",
              "    }\n",
              "\n",
              "    .dataframe tbody tr th {\n",
              "        vertical-align: top;\n",
              "    }\n",
              "\n",
              "    .dataframe thead th {\n",
              "        text-align: right;\n",
              "    }\n",
              "</style>\n",
              "<table border=\"1\" class=\"dataframe\">\n",
              "  <thead>\n",
              "    <tr style=\"text-align: right;\">\n",
              "      <th></th>\n",
              "      <th>mean_fit_time</th>\n",
              "      <th>std_fit_time</th>\n",
              "      <th>mean_score_time</th>\n",
              "      <th>std_score_time</th>\n",
              "      <th>param_C</th>\n",
              "      <th>param_penalty</th>\n",
              "      <th>params</th>\n",
              "      <th>split0_test_score</th>\n",
              "      <th>split1_test_score</th>\n",
              "      <th>split2_test_score</th>\n",
              "      <th>mean_test_score</th>\n",
              "      <th>std_test_score</th>\n",
              "      <th>rank_test_score</th>\n",
              "    </tr>\n",
              "  </thead>\n",
              "  <tbody>\n",
              "    <tr>\n",
              "      <th>0</th>\n",
              "      <td>0.084342</td>\n",
              "      <td>0.012503</td>\n",
              "      <td>0.005006</td>\n",
              "      <td>0.001425</td>\n",
              "      <td>0.01</td>\n",
              "      <td>l2</td>\n",
              "      <td>{'C': 0.01, 'penalty': 'l2'}</td>\n",
              "      <td>0.829832</td>\n",
              "      <td>0.831399</td>\n",
              "      <td>0.830738</td>\n",
              "      <td>0.830656</td>\n",
              "      <td>0.000642</td>\n",
              "      <td>9</td>\n",
              "    </tr>\n",
              "    <tr>\n",
              "      <th>1</th>\n",
              "      <td>0.217338</td>\n",
              "      <td>0.006374</td>\n",
              "      <td>0.004020</td>\n",
              "      <td>0.000292</td>\n",
              "      <td>0.01</td>\n",
              "      <td>l1</td>\n",
              "      <td>{'C': 0.01, 'penalty': 'l1'}</td>\n",
              "      <td>0.822185</td>\n",
              "      <td>0.823936</td>\n",
              "      <td>0.822169</td>\n",
              "      <td>0.822763</td>\n",
              "      <td>0.000829</td>\n",
              "      <td>10</td>\n",
              "    </tr>\n",
              "    <tr>\n",
              "      <th>2</th>\n",
              "      <td>0.136000</td>\n",
              "      <td>0.004383</td>\n",
              "      <td>0.004629</td>\n",
              "      <td>0.000981</td>\n",
              "      <td>0.1</td>\n",
              "      <td>l2</td>\n",
              "      <td>{'C': 0.1, 'penalty': 'l2'}</td>\n",
              "      <td>0.838769</td>\n",
              "      <td>0.838677</td>\n",
              "      <td>0.840413</td>\n",
              "      <td>0.839286</td>\n",
              "      <td>0.000797</td>\n",
              "      <td>8</td>\n",
              "    </tr>\n",
              "    <tr>\n",
              "      <th>3</th>\n",
              "      <td>1.171115</td>\n",
              "      <td>0.091477</td>\n",
              "      <td>0.004042</td>\n",
              "      <td>0.000303</td>\n",
              "      <td>0.1</td>\n",
              "      <td>l1</td>\n",
              "      <td>{'C': 0.1, 'penalty': 'l1'}</td>\n",
              "      <td>0.849456</td>\n",
              "      <td>0.847798</td>\n",
              "      <td>0.852391</td>\n",
              "      <td>0.849882</td>\n",
              "      <td>0.001899</td>\n",
              "      <td>6</td>\n",
              "    </tr>\n",
              "    <tr>\n",
              "      <th>4</th>\n",
              "      <td>0.179892</td>\n",
              "      <td>0.011022</td>\n",
              "      <td>0.004283</td>\n",
              "      <td>0.000532</td>\n",
              "      <td>1</td>\n",
              "      <td>l2</td>\n",
              "      <td>{'C': 1, 'penalty': 'l2'}</td>\n",
              "      <td>0.850101</td>\n",
              "      <td>0.847245</td>\n",
              "      <td>0.850456</td>\n",
              "      <td>0.849268</td>\n",
              "      <td>0.001437</td>\n",
              "      <td>7</td>\n",
              "    </tr>\n",
              "    <tr>\n",
              "      <th>5</th>\n",
              "      <td>8.809258</td>\n",
              "      <td>0.194611</td>\n",
              "      <td>0.005014</td>\n",
              "      <td>0.000572</td>\n",
              "      <td>1</td>\n",
              "      <td>l1</td>\n",
              "      <td>{'C': 1, 'penalty': 'l1'}</td>\n",
              "      <td>0.851391</td>\n",
              "      <td>0.847522</td>\n",
              "      <td>0.852852</td>\n",
              "      <td>0.850588</td>\n",
              "      <td>0.002249</td>\n",
              "      <td>2</td>\n",
              "    </tr>\n",
              "    <tr>\n",
              "      <th>6</th>\n",
              "      <td>0.239667</td>\n",
              "      <td>0.016962</td>\n",
              "      <td>0.004619</td>\n",
              "      <td>0.001024</td>\n",
              "      <td>5</td>\n",
              "      <td>l2</td>\n",
              "      <td>{'C': 5, 'penalty': 'l2'}</td>\n",
              "      <td>0.851299</td>\n",
              "      <td>0.847798</td>\n",
              "      <td>0.852207</td>\n",
              "      <td>0.850435</td>\n",
              "      <td>0.001901</td>\n",
              "      <td>4</td>\n",
              "    </tr>\n",
              "    <tr>\n",
              "      <th>7</th>\n",
              "      <td>5.433453</td>\n",
              "      <td>1.404891</td>\n",
              "      <td>0.004446</td>\n",
              "      <td>0.000095</td>\n",
              "      <td>5</td>\n",
              "      <td>l1</td>\n",
              "      <td>{'C': 5, 'penalty': 'l1'}</td>\n",
              "      <td>0.850931</td>\n",
              "      <td>0.847706</td>\n",
              "      <td>0.853128</td>\n",
              "      <td>0.850588</td>\n",
              "      <td>0.002227</td>\n",
              "      <td>1</td>\n",
              "    </tr>\n",
              "    <tr>\n",
              "      <th>8</th>\n",
              "      <td>0.254360</td>\n",
              "      <td>0.005996</td>\n",
              "      <td>0.004961</td>\n",
              "      <td>0.000704</td>\n",
              "      <td>10</td>\n",
              "      <td>l2</td>\n",
              "      <td>{'C': 10, 'penalty': 'l2'}</td>\n",
              "      <td>0.851299</td>\n",
              "      <td>0.847798</td>\n",
              "      <td>0.852115</td>\n",
              "      <td>0.850404</td>\n",
              "      <td>0.001872</td>\n",
              "      <td>5</td>\n",
              "    </tr>\n",
              "    <tr>\n",
              "      <th>9</th>\n",
              "      <td>3.460837</td>\n",
              "      <td>0.626818</td>\n",
              "      <td>0.005389</td>\n",
              "      <td>0.001909</td>\n",
              "      <td>10</td>\n",
              "      <td>l1</td>\n",
              "      <td>{'C': 10, 'penalty': 'l1'}</td>\n",
              "      <td>0.850654</td>\n",
              "      <td>0.847706</td>\n",
              "      <td>0.853128</td>\n",
              "      <td>0.850496</td>\n",
              "      <td>0.002216</td>\n",
              "      <td>3</td>\n",
              "    </tr>\n",
              "  </tbody>\n",
              "</table>\n",
              "</div>\n",
              "      <button class=\"colab-df-convert\" onclick=\"convertToInteractive('df-6a68f2e3-1707-4876-a395-a443e192d6ec')\"\n",
              "              title=\"Convert this dataframe to an interactive table.\"\n",
              "              style=\"display:none;\">\n",
              "        \n",
              "  <svg xmlns=\"http://www.w3.org/2000/svg\" height=\"24px\"viewBox=\"0 0 24 24\"\n",
              "       width=\"24px\">\n",
              "    <path d=\"M0 0h24v24H0V0z\" fill=\"none\"/>\n",
              "    <path d=\"M18.56 5.44l.94 2.06.94-2.06 2.06-.94-2.06-.94-.94-2.06-.94 2.06-2.06.94zm-11 1L8.5 8.5l.94-2.06 2.06-.94-2.06-.94L8.5 2.5l-.94 2.06-2.06.94zm10 10l.94 2.06.94-2.06 2.06-.94-2.06-.94-.94-2.06-.94 2.06-2.06.94z\"/><path d=\"M17.41 7.96l-1.37-1.37c-.4-.4-.92-.59-1.43-.59-.52 0-1.04.2-1.43.59L10.3 9.45l-7.72 7.72c-.78.78-.78 2.05 0 2.83L4 21.41c.39.39.9.59 1.41.59.51 0 1.02-.2 1.41-.59l7.78-7.78 2.81-2.81c.8-.78.8-2.07 0-2.86zM5.41 20L4 18.59l7.72-7.72 1.47 1.35L5.41 20z\"/>\n",
              "  </svg>\n",
              "      </button>\n",
              "      \n",
              "  <style>\n",
              "    .colab-df-container {\n",
              "      display:flex;\n",
              "      flex-wrap:wrap;\n",
              "      gap: 12px;\n",
              "    }\n",
              "\n",
              "    .colab-df-convert {\n",
              "      background-color: #E8F0FE;\n",
              "      border: none;\n",
              "      border-radius: 50%;\n",
              "      cursor: pointer;\n",
              "      display: none;\n",
              "      fill: #1967D2;\n",
              "      height: 32px;\n",
              "      padding: 0 0 0 0;\n",
              "      width: 32px;\n",
              "    }\n",
              "\n",
              "    .colab-df-convert:hover {\n",
              "      background-color: #E2EBFA;\n",
              "      box-shadow: 0px 1px 2px rgba(60, 64, 67, 0.3), 0px 1px 3px 1px rgba(60, 64, 67, 0.15);\n",
              "      fill: #174EA6;\n",
              "    }\n",
              "\n",
              "    [theme=dark] .colab-df-convert {\n",
              "      background-color: #3B4455;\n",
              "      fill: #D2E3FC;\n",
              "    }\n",
              "\n",
              "    [theme=dark] .colab-df-convert:hover {\n",
              "      background-color: #434B5C;\n",
              "      box-shadow: 0px 1px 3px 1px rgba(0, 0, 0, 0.15);\n",
              "      filter: drop-shadow(0px 1px 2px rgba(0, 0, 0, 0.3));\n",
              "      fill: #FFFFFF;\n",
              "    }\n",
              "  </style>\n",
              "\n",
              "      <script>\n",
              "        const buttonEl =\n",
              "          document.querySelector('#df-6a68f2e3-1707-4876-a395-a443e192d6ec button.colab-df-convert');\n",
              "        buttonEl.style.display =\n",
              "          google.colab.kernel.accessAllowed ? 'block' : 'none';\n",
              "\n",
              "        async function convertToInteractive(key) {\n",
              "          const element = document.querySelector('#df-6a68f2e3-1707-4876-a395-a443e192d6ec');\n",
              "          const dataTable =\n",
              "            await google.colab.kernel.invokeFunction('convertToInteractive',\n",
              "                                                     [key], {});\n",
              "          if (!dataTable) return;\n",
              "\n",
              "          const docLinkHtml = 'Like what you see? Visit the ' +\n",
              "            '<a target=\"_blank\" href=https://colab.research.google.com/notebooks/data_table.ipynb>data table notebook</a>'\n",
              "            + ' to learn more about interactive tables.';\n",
              "          element.innerHTML = '';\n",
              "          dataTable['output_type'] = 'display_data';\n",
              "          await google.colab.output.renderOutput(dataTable, element);\n",
              "          const docLink = document.createElement('div');\n",
              "          docLink.innerHTML = docLinkHtml;\n",
              "          element.appendChild(docLink);\n",
              "        }\n",
              "      </script>\n",
              "    </div>\n",
              "  </div>\n",
              "  "
            ]
          },
          "metadata": {},
          "execution_count": 76
        }
      ]
    },
    {
      "cell_type": "markdown",
      "source": [
        "Test data preprocessing"
      ],
      "metadata": {
        "id": "DZ7cv78kQcuA"
      }
    },
    {
      "cell_type": "code",
      "source": [
        "test_target = test.pop(' <=50K/>50K.')\n",
        "print(test_target)"
      ],
      "metadata": {
        "colab": {
          "base_uri": "https://localhost:8080/"
        },
        "id": "Q2OgtT_dVbvK",
        "outputId": "8b2db388-96cb-4ba2-e865-aee3c258cb04"
      },
      "execution_count": null,
      "outputs": [
        {
          "output_type": "stream",
          "name": "stdout",
          "text": [
            "0         <=50K.\n",
            "1         <=50K.\n",
            "2          >50K.\n",
            "3          >50K.\n",
            "4         <=50K.\n",
            "          ...   \n",
            "16276     <=50K.\n",
            "16277     <=50K.\n",
            "16278     <=50K.\n",
            "16279     <=50K.\n",
            "16280      >50K.\n",
            "Name:  <=50K/>50K., Length: 16281, dtype: object\n"
          ]
        }
      ]
    },
    {
      "cell_type": "code",
      "source": [
        "num_test = pd.get_dummies(data=test, columns=[' workclass',' education',' marital-status',' occupation',' relationship',' race',' sex',' native-country'])\n",
        "print(num_test)\n",
        "print(num_test.columns)"
      ],
      "metadata": {
        "colab": {
          "base_uri": "https://localhost:8080/"
        },
        "id": "ozfyA5B_WHc4",
        "outputId": "512af468-186a-44c5-81b5-b452f91b369a"
      },
      "execution_count": null,
      "outputs": [
        {
          "output_type": "stream",
          "name": "stdout",
          "text": [
            "       age   education-num   capital-gain   capital-loss   hours-per-week  \\\n",
            "0       25               7              0              0               40   \n",
            "1       38               9              0              0               50   \n",
            "2       28              12              0              0               40   \n",
            "3       44              10           7688              0               40   \n",
            "4       18              10              0              0               30   \n",
            "...    ...             ...            ...            ...              ...   \n",
            "16276   39              13              0              0               36   \n",
            "16277   64               9              0              0               40   \n",
            "16278   38              13              0              0               50   \n",
            "16279   44              13           5455              0               40   \n",
            "16280   35              13              0              0               60   \n",
            "\n",
            "        workclass_ ?   workclass_ Federal-gov   workclass_ Local-gov  \\\n",
            "0                  0                        0                      0   \n",
            "1                  0                        0                      0   \n",
            "2                  0                        0                      1   \n",
            "3                  0                        0                      0   \n",
            "4                  1                        0                      0   \n",
            "...              ...                      ...                    ...   \n",
            "16276              0                        0                      0   \n",
            "16277              1                        0                      0   \n",
            "16278              0                        0                      0   \n",
            "16279              0                        0                      0   \n",
            "16280              0                        0                      0   \n",
            "\n",
            "        workclass_ Never-worked   workclass_ Private  ...  \\\n",
            "0                             0                    1  ...   \n",
            "1                             0                    1  ...   \n",
            "2                             0                    0  ...   \n",
            "3                             0                    1  ...   \n",
            "4                             0                    0  ...   \n",
            "...                         ...                  ...  ...   \n",
            "16276                         0                    1  ...   \n",
            "16277                         0                    0  ...   \n",
            "16278                         0                    1  ...   \n",
            "16279                         0                    1  ...   \n",
            "16280                         0                    0  ...   \n",
            "\n",
            "        native-country_ Portugal   native-country_ Puerto-Rico  \\\n",
            "0                              0                             0   \n",
            "1                              0                             0   \n",
            "2                              0                             0   \n",
            "3                              0                             0   \n",
            "4                              0                             0   \n",
            "...                          ...                           ...   \n",
            "16276                          0                             0   \n",
            "16277                          0                             0   \n",
            "16278                          0                             0   \n",
            "16279                          0                             0   \n",
            "16280                          0                             0   \n",
            "\n",
            "        native-country_ Scotland   native-country_ South  \\\n",
            "0                              0                       0   \n",
            "1                              0                       0   \n",
            "2                              0                       0   \n",
            "3                              0                       0   \n",
            "4                              0                       0   \n",
            "...                          ...                     ...   \n",
            "16276                          0                       0   \n",
            "16277                          0                       0   \n",
            "16278                          0                       0   \n",
            "16279                          0                       0   \n",
            "16280                          0                       0   \n",
            "\n",
            "        native-country_ Taiwan   native-country_ Thailand  \\\n",
            "0                            0                          0   \n",
            "1                            0                          0   \n",
            "2                            0                          0   \n",
            "3                            0                          0   \n",
            "4                            0                          0   \n",
            "...                        ...                        ...   \n",
            "16276                        0                          0   \n",
            "16277                        0                          0   \n",
            "16278                        0                          0   \n",
            "16279                        0                          0   \n",
            "16280                        0                          0   \n",
            "\n",
            "        native-country_ Trinadad&Tobago   native-country_ United-States  \\\n",
            "0                                     0                               1   \n",
            "1                                     0                               1   \n",
            "2                                     0                               1   \n",
            "3                                     0                               1   \n",
            "4                                     0                               1   \n",
            "...                                 ...                             ...   \n",
            "16276                                 0                               1   \n",
            "16277                                 0                               1   \n",
            "16278                                 0                               1   \n",
            "16279                                 0                               1   \n",
            "16280                                 0                               1   \n",
            "\n",
            "        native-country_ Vietnam   native-country_ Yugoslavia  \n",
            "0                             0                            0  \n",
            "1                             0                            0  \n",
            "2                             0                            0  \n",
            "3                             0                            0  \n",
            "4                             0                            0  \n",
            "...                         ...                          ...  \n",
            "16276                         0                            0  \n",
            "16277                         0                            0  \n",
            "16278                         0                            0  \n",
            "16279                         0                            0  \n",
            "16280                         0                            0  \n",
            "\n",
            "[16281 rows x 106 columns]\n",
            "Index(['age', ' education-num', ' capital-gain', ' capital-loss',\n",
            "       ' hours-per-week', ' workclass_ ?', ' workclass_ Federal-gov',\n",
            "       ' workclass_ Local-gov', ' workclass_ Never-worked',\n",
            "       ' workclass_ Private',\n",
            "       ...\n",
            "       ' native-country_ Portugal', ' native-country_ Puerto-Rico',\n",
            "       ' native-country_ Scotland', ' native-country_ South',\n",
            "       ' native-country_ Taiwan', ' native-country_ Thailand',\n",
            "       ' native-country_ Trinadad&Tobago', ' native-country_ United-States',\n",
            "       ' native-country_ Vietnam', ' native-country_ Yugoslavia'],\n",
            "      dtype='object', length=106)\n"
          ]
        }
      ]
    },
    {
      "cell_type": "code",
      "source": [
        "mapping = {' <=50K.':0, ' >50K.':1}\n",
        "test_target = test_target.map(mapping)"
      ],
      "metadata": {
        "id": "Wd7S_fBKWM3j"
      },
      "execution_count": null,
      "outputs": []
    },
    {
      "cell_type": "code",
      "source": [
        "remove = num_test.pop(' workclass_ ?')\n",
        "remove2 = num_test.pop(' native-country_ Yugoslavia')"
      ],
      "metadata": {
        "id": "p3HACvzx0rmB"
      },
      "execution_count": null,
      "outputs": []
    },
    {
      "cell_type": "code",
      "source": [
        "from sklearn.preprocessing import MinMaxScaler\n",
        "min_max_scaler = MinMaxScaler()\n",
        "norm_test = min_max_scaler.fit_transform(num_test)"
      ],
      "metadata": {
        "id": "q99f5oe1W_pn"
      },
      "execution_count": null,
      "outputs": []
    },
    {
      "cell_type": "code",
      "source": [
        "print(norm_test)"
      ],
      "metadata": {
        "colab": {
          "base_uri": "https://localhost:8080/"
        },
        "id": "Gjqqoa5B4rkS",
        "outputId": "9de61f92-7638-4869-8673-0221864d0525"
      },
      "execution_count": null,
      "outputs": [
        {
          "output_type": "stream",
          "name": "stdout",
          "text": [
            "[[0.10958904 0.4        0.         ... 0.         1.         0.        ]\n",
            " [0.28767123 0.53333333 0.         ... 0.         1.         0.        ]\n",
            " [0.15068493 0.73333333 0.         ... 0.         1.         0.        ]\n",
            " ...\n",
            " [0.28767123 0.8        0.         ... 0.         1.         0.        ]\n",
            " [0.36986301 0.8        0.05455055 ... 0.         1.         0.        ]\n",
            " [0.24657534 0.8        0.         ... 0.         1.         0.        ]]\n"
          ]
        }
      ]
    },
    {
      "cell_type": "code",
      "source": [
        "import warnings\n",
        "import numpy as np\n",
        "warnings.simplefilter(action='ignore', category=FutureWarning)\n",
        "print('x' in np.arange(5))   #returns False, without Warning"
      ],
      "metadata": {
        "colab": {
          "base_uri": "https://localhost:8080/"
        },
        "id": "vKwnkD3u3MWk",
        "outputId": "9970bc3b-44f8-4320-c235-68d37807045d"
      },
      "execution_count": null,
      "outputs": [
        {
          "output_type": "stream",
          "name": "stdout",
          "text": [
            "False\n"
          ]
        }
      ]
    },
    {
      "cell_type": "code",
      "source": [
        "from sklearn.metrics import accuracy_score\n",
        "best_model =  LogisticRegression(C=5,penalty='l1',max_iter=500,solver='liblinear')\n",
        "best_model.fit(x_total, y_total)"
      ],
      "metadata": {
        "colab": {
          "base_uri": "https://localhost:8080/"
        },
        "id": "7N7TfpjRQ_z7",
        "outputId": "bfc1ee06-c1d9-4dfa-89a0-dac8a95477dc"
      },
      "execution_count": null,
      "outputs": [
        {
          "output_type": "execute_result",
          "data": {
            "text/plain": [
              "LogisticRegression(C=5, max_iter=500, penalty='l1', solver='liblinear')"
            ]
          },
          "metadata": {},
          "execution_count": 33
        }
      ]
    },
    {
      "cell_type": "code",
      "source": [
        "pred = model.predict(norm_test)\n",
        "acc = accuracy_score(test_target, pred)\n",
        "print(acc)"
      ],
      "metadata": {
        "colab": {
          "base_uri": "https://localhost:8080/"
        },
        "id": "J7JdULM2E_5R",
        "outputId": "56f87122-1033-488b-adfb-3297c3b46b08"
      },
      "execution_count": null,
      "outputs": [
        {
          "output_type": "stream",
          "name": "stdout",
          "text": [
            "0.7871138136478103\n"
          ]
        }
      ]
    }
  ]
}